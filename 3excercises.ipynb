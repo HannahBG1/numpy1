{
 "cells": [
  {
   "cell_type": "markdown",
   "metadata": {
    "id": "KdERlTpFuL5V"
   },
   "source": [
    "# Exercises"
   ]
  },
  {
   "cell_type": "markdown",
   "metadata": {
    "id": "to-gsrQyuL5Z"
   },
   "source": [
    "### #1 - Calculate the BMI (body mass index) on the two lists below using NDArrays..."
   ]
  },
  {
   "cell_type": "code",
   "execution_count": 1,
   "metadata": {
    "id": "iZlf9DzeuL5a"
   },
   "outputs": [
    {
     "name": "stdout",
     "output_type": "stream",
     "text": [
      "BMI values: [16.86620458 17.87755102 18.82562984 19.71450617 20.54794521 21.32943755\n",
      " 22.06222222]\n"
     ]
    }
   ],
   "source": [
    "import numpy as np\n",
    "\n",
    "# Height in inches\n",
    "height = np.array([69, 70, 71, 72, 73, 74, 75])\n",
    "\n",
    "# Weight in pounds\n",
    "weight = np.array([110, 120, 130, 140, 150, 160, 170])\n",
    "\n",
    "# Calculate BMI\n",
    "bmi = weight / (height ** 2) * 730\n",
    "\n",
    "print(\"BMI values:\", bmi)\n"
   ]
  },
  {
   "cell_type": "markdown",
   "metadata": {
    "id": "RSsT8w8ouL5b"
   },
   "source": [
    "### #2 - Create a function that will take in two parameters and will create a random matrix based off of those parameters. Extra: Have additional parameters taken in that allow the user to choose the shape and data type of the matrix."
   ]
  },
  {
   "cell_type": "code",
   "execution_count": 12,
   "metadata": {
    "id": "ygFvj0aeuL5b"
   },
   "outputs": [
    {
     "name": "stdout",
     "output_type": "stream",
     "text": [
      "Random Matrix:\n",
      "[[-0.97144785 -3.20210167 -6.19683614]\n",
      " [ 1.10430812 -2.19594161 -5.59718588]\n",
      " [-2.18736932 -7.04991887  6.55407234]]\n"
     ]
    }
   ],
   "source": [
    "import numpy as np\n",
    "\n",
    "def generate_random_matrix(rows, cols, dtype=float, low=0, high=1):\n",
    "    \"\"\"\n",
    "    Generate a random matrix with specified shape and data type.\n",
    "\n",
    "    Parameters:\n",
    "        rows (int): Number of rows in the matrix.\n",
    "        cols (int): Number of columns in the matrix.\n",
    "        dtype (data-type, optional): The desired data-type for the matrix. Default is float.\n",
    "        low (float, optional): The lowest value in the range of random values to generate. Default is 0.\n",
    "        high (float, optional): The highest value in the range of random values to generate. Default is 1.\n",
    "\n",
    "    Returns:\n",
    "        numpy.ndarray: A random matrix with shape (rows, cols) and data type dtype.\n",
    "    \"\"\"\n",
    "    return np.random.uniform(low=low, high=high, size=(rows, cols)).astype(dtype)\n",
    "\n",
    "\n",
    "random_matrix = generate_random_matrix(3, 3, dtype=float, low=-10, high=10)\n",
    "print(\"Random Matrix:\")\n",
    "print(random_matrix)"
   ]
  },
  {
   "cell_type": "markdown",
   "metadata": {
    "id": "e5mP1UX9uL5c"
   },
   "source": [
    "### #3 - Extra: Open and load the data in the two text files that have the Boston Red Sox hitting data for the past seasons. Compare the difference in the two years by putting the data into an NDArray and running a differencial operation on it. The column to look for will be SLG.\n",
    "\n",
    "Your output should display which year (either 2017 or 2018) was a better year based on SLG"
   ]
  },
  {
   "cell_type": "code",
   "execution_count": 9,
   "metadata": {
    "id": "iAExC-SjuL5c"
   },
   "outputs": [],
   "source": [
    "def load_data(file_path, delimiter=','):\n",
    "    with open(file_path, 'r', encoding='utf-8') as file:\n",
    "        data = [line.strip().split(delimiter) for line in file]\n",
    "    return data\n",
    "\n",
    "file1_path = \"redsox_2017_hitting.txt\"\n",
    "file2_path = \"redsox_2018_hitting.txt\"\n",
    "\n",
    "data_from_file1 = load_data(file1_path)\n",
    "data_from_file2 = load_data(file2_path)\n"
   ]
  },
  {
   "cell_type": "code",
   "execution_count": 11,
   "metadata": {
    "id": "P8Rwr8lmuL5e"
   },
   "outputs": [
    {
     "name": "stdout",
     "output_type": "stream",
     "text": [
      "SLG difference between 2017 and 2018: -0.005847826086956498\n",
      "2017 was a better year based on SLG.\n"
     ]
    }
   ],
   "source": [
    "FIELDS = ['Rk', 'Pos', 'Name', 'Age', 'G', 'PA', 'AB', 'R', 'H', '2B', '3B', 'HR', 'RBI', 'SB', 'CS', \n",
    "          'BB', 'SO', 'BA', 'OBP', 'SLG', 'OPS', 'OPS+', 'TB', 'GDP', 'HBP', 'SH', 'SF', 'IBB']\n",
    "\n",
    "DATATYPES = [('rk', 'i'), ('pos', '|S25'), ('name', '|S25'), ('age', 'i'), ('g', 'i'), ('pa', 'i'), ('ab', 'i'),\n",
    "                ('r', 'i'), ('h', 'i'), ('2b', 'i'), ('3b', 'i'), ('hr', 'i'), ('rbi', 'i'), ('sb', 'i'), ('cs', 'i'),\n",
    "                ('bb', 'i'), ('so', 'i'), ('ba', 'f'), ('obp', 'f'), ('slg', 'f'), ('ops', 'f'), ('opsp', 'i'),\n",
    "                ('tb', 'i'), ('gdp', 'i'), ('hbp', 'i'), ('sh', 'i'), ('sf', 'i'), ('ibb', 'i')]\n",
    "\n",
    "#Use this function to actually open the data inside of a NDArray\n",
    "\n",
    "import numpy as np\n",
    "\n",
    "# Load data from text files into NumPy arrays\n",
    "def load_data(file_path, delimiter=','):\n",
    "    data = np.genfromtxt(file_path, delimiter=delimiter, names=True, dtype=None, encoding=None)\n",
    "    return data\n",
    "\n",
    "# File paths for the two data files\n",
    "file1_path = \"redsox_2017_hitting.txt\"\n",
    "file2_path = \"redsox_2018_hitting.txt\"\n",
    "\n",
    "# Load data from both files into NumPy arrays\n",
    "data_2017 = load_data(file1_path)\n",
    "data_2018 = load_data(file2_path)\n",
    "\n",
    "# Extract SLG values from each year's dataset\n",
    "slg_2017 = data_2017['SLG']\n",
    "slg_2018 = data_2018['SLG']\n",
    "\n",
    "# Calculate the difference in SLG between the two years\n",
    "slg_difference = slg_2018.mean() - slg_2017.mean()\n",
    "\n",
    "# Determine which year had a higher SLG value\n",
    "better_year = \"2018\" if slg_difference > 0 else \"2017\"\n",
    "\n",
    "# Display the results\n",
    "print(\"SLG difference between 2017 and 2018:\", slg_difference)\n",
    "print(f\"{better_year} was a better year based on SLG.\")\n",
    "\n",
    "\n",
    "\n"
   ]
  },
  {
   "cell_type": "code",
   "execution_count": null,
   "metadata": {},
   "outputs": [],
   "source": []
  }
 ],
 "metadata": {
  "colab": {
   "name": "Copy of Data_Science_Day_1_Exercises-Day1- Homework.ipynb",
   "provenance": []
  },
  "kernelspec": {
   "display_name": "Python 3 (ipykernel)",
   "language": "python",
   "name": "python3"
  },
  "language_info": {
   "codemirror_mode": {
    "name": "ipython",
    "version": 3
   },
   "file_extension": ".py",
   "mimetype": "text/x-python",
   "name": "python",
   "nbconvert_exporter": "python",
   "pygments_lexer": "ipython3",
   "version": "3.11.5"
  }
 },
 "nbformat": 4,
 "nbformat_minor": 1
}
